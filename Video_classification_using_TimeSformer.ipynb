{
  "nbformat": 4,
  "nbformat_minor": 0,
  "metadata": {
    "colab": {
      "provenance": [],
      "gpuType": "A100",
      "machine_shape": "hm",
      "include_colab_link": true
    },
    "kernelspec": {
      "name": "python3",
      "display_name": "Python 3"
    },
    "language_info": {
      "name": "python"
    },
    "accelerator": "GPU"
  },
  "cells": [
    {
      "cell_type": "markdown",
      "metadata": {
        "id": "view-in-github",
        "colab_type": "text"
      },
      "source": [
        "<a href=\"https://colab.research.google.com/github/musfikur-rahaman/SoccerAction_SoccerActDataset/blob/main/Video_classification_using_TimeSformer.ipynb\" target=\"_parent\"><img src=\"https://colab.research.google.com/assets/colab-badge.svg\" alt=\"Open In Colab\"/></a>"
      ]
    },
    {
      "cell_type": "markdown",
      "source": [
        "**1.Installation of Essential Libraries**"
      ],
      "metadata": {
        "id": "b-coGk-yn8N3"
      }
    },
    {
      "cell_type": "code",
      "execution_count": null,
      "metadata": {
        "id": "33aQF2Ze1Qk5",
        "colab": {
          "base_uri": "https://localhost:8080/"
        },
        "outputId": "ca193f0f-1ffb-4020-934c-16acba8f6729"
      },
      "outputs": [
        {
          "output_type": "stream",
          "name": "stdout",
          "text": [
            "Requirement already satisfied: torch in /usr/local/lib/python3.11/dist-packages (2.6.0+cu124)\n",
            "Requirement already satisfied: torchvision in /usr/local/lib/python3.11/dist-packages (0.21.0+cu124)\n",
            "Requirement already satisfied: timm in /usr/local/lib/python3.11/dist-packages (1.0.15)\n",
            "Requirement already satisfied: transformers in /usr/local/lib/python3.11/dist-packages (4.51.3)\n",
            "Requirement already satisfied: opencv-python in /usr/local/lib/python3.11/dist-packages (4.11.0.86)\n",
            "Requirement already satisfied: pandas in /usr/local/lib/python3.11/dist-packages (2.2.2)\n",
            "Requirement already satisfied: scikit-learn in /usr/local/lib/python3.11/dist-packages (1.6.1)\n",
            "Requirement already satisfied: numpy in /usr/local/lib/python3.11/dist-packages (2.0.2)\n",
            "Requirement already satisfied: tqdm in /usr/local/lib/python3.11/dist-packages (4.67.1)\n",
            "Requirement already satisfied: filelock in /usr/local/lib/python3.11/dist-packages (from torch) (3.18.0)\n",
            "Requirement already satisfied: typing-extensions>=4.10.0 in /usr/local/lib/python3.11/dist-packages (from torch) (4.13.2)\n",
            "Requirement already satisfied: networkx in /usr/local/lib/python3.11/dist-packages (from torch) (3.4.2)\n",
            "Requirement already satisfied: jinja2 in /usr/local/lib/python3.11/dist-packages (from torch) (3.1.6)\n",
            "Requirement already satisfied: fsspec in /usr/local/lib/python3.11/dist-packages (from torch) (2025.3.2)\n",
            "Requirement already satisfied: nvidia-cuda-nvrtc-cu12==12.4.127 in /usr/local/lib/python3.11/dist-packages (from torch) (12.4.127)\n",
            "Requirement already satisfied: nvidia-cuda-runtime-cu12==12.4.127 in /usr/local/lib/python3.11/dist-packages (from torch) (12.4.127)\n",
            "Requirement already satisfied: nvidia-cuda-cupti-cu12==12.4.127 in /usr/local/lib/python3.11/dist-packages (from torch) (12.4.127)\n",
            "Requirement already satisfied: nvidia-cudnn-cu12==9.1.0.70 in /usr/local/lib/python3.11/dist-packages (from torch) (9.1.0.70)\n",
            "Requirement already satisfied: nvidia-cublas-cu12==12.4.5.8 in /usr/local/lib/python3.11/dist-packages (from torch) (12.4.5.8)\n",
            "Requirement already satisfied: nvidia-cufft-cu12==11.2.1.3 in /usr/local/lib/python3.11/dist-packages (from torch) (11.2.1.3)\n",
            "Requirement already satisfied: nvidia-curand-cu12==10.3.5.147 in /usr/local/lib/python3.11/dist-packages (from torch) (10.3.5.147)\n",
            "Requirement already satisfied: nvidia-cusolver-cu12==11.6.1.9 in /usr/local/lib/python3.11/dist-packages (from torch) (11.6.1.9)\n",
            "Requirement already satisfied: nvidia-cusparse-cu12==12.3.1.170 in /usr/local/lib/python3.11/dist-packages (from torch) (12.3.1.170)\n",
            "Requirement already satisfied: nvidia-cusparselt-cu12==0.6.2 in /usr/local/lib/python3.11/dist-packages (from torch) (0.6.2)\n",
            "Requirement already satisfied: nvidia-nccl-cu12==2.21.5 in /usr/local/lib/python3.11/dist-packages (from torch) (2.21.5)\n",
            "Requirement already satisfied: nvidia-nvtx-cu12==12.4.127 in /usr/local/lib/python3.11/dist-packages (from torch) (12.4.127)\n",
            "Requirement already satisfied: nvidia-nvjitlink-cu12==12.4.127 in /usr/local/lib/python3.11/dist-packages (from torch) (12.4.127)\n",
            "Requirement already satisfied: triton==3.2.0 in /usr/local/lib/python3.11/dist-packages (from torch) (3.2.0)\n",
            "Requirement already satisfied: sympy==1.13.1 in /usr/local/lib/python3.11/dist-packages (from torch) (1.13.1)\n",
            "Requirement already satisfied: mpmath<1.4,>=1.1.0 in /usr/local/lib/python3.11/dist-packages (from sympy==1.13.1->torch) (1.3.0)\n",
            "Requirement already satisfied: pillow!=8.3.*,>=5.3.0 in /usr/local/lib/python3.11/dist-packages (from torchvision) (11.2.1)\n",
            "Requirement already satisfied: pyyaml in /usr/local/lib/python3.11/dist-packages (from timm) (6.0.2)\n",
            "Requirement already satisfied: huggingface_hub in /usr/local/lib/python3.11/dist-packages (from timm) (0.30.2)\n",
            "Requirement already satisfied: safetensors in /usr/local/lib/python3.11/dist-packages (from timm) (0.5.3)\n",
            "Requirement already satisfied: packaging>=20.0 in /usr/local/lib/python3.11/dist-packages (from transformers) (24.2)\n",
            "Requirement already satisfied: regex!=2019.12.17 in /usr/local/lib/python3.11/dist-packages (from transformers) (2024.11.6)\n",
            "Requirement already satisfied: requests in /usr/local/lib/python3.11/dist-packages (from transformers) (2.32.3)\n",
            "Requirement already satisfied: tokenizers<0.22,>=0.21 in /usr/local/lib/python3.11/dist-packages (from transformers) (0.21.1)\n",
            "Requirement already satisfied: python-dateutil>=2.8.2 in /usr/local/lib/python3.11/dist-packages (from pandas) (2.9.0.post0)\n",
            "Requirement already satisfied: pytz>=2020.1 in /usr/local/lib/python3.11/dist-packages (from pandas) (2025.2)\n",
            "Requirement already satisfied: tzdata>=2022.7 in /usr/local/lib/python3.11/dist-packages (from pandas) (2025.2)\n",
            "Requirement already satisfied: scipy>=1.6.0 in /usr/local/lib/python3.11/dist-packages (from scikit-learn) (1.15.2)\n",
            "Requirement already satisfied: joblib>=1.2.0 in /usr/local/lib/python3.11/dist-packages (from scikit-learn) (1.4.2)\n",
            "Requirement already satisfied: threadpoolctl>=3.1.0 in /usr/local/lib/python3.11/dist-packages (from scikit-learn) (3.6.0)\n",
            "Requirement already satisfied: six>=1.5 in /usr/local/lib/python3.11/dist-packages (from python-dateutil>=2.8.2->pandas) (1.17.0)\n",
            "Requirement already satisfied: MarkupSafe>=2.0 in /usr/local/lib/python3.11/dist-packages (from jinja2->torch) (3.0.2)\n",
            "Requirement already satisfied: charset-normalizer<4,>=2 in /usr/local/lib/python3.11/dist-packages (from requests->transformers) (3.4.1)\n",
            "Requirement already satisfied: idna<4,>=2.5 in /usr/local/lib/python3.11/dist-packages (from requests->transformers) (3.10)\n",
            "Requirement already satisfied: urllib3<3,>=1.21.1 in /usr/local/lib/python3.11/dist-packages (from requests->transformers) (2.4.0)\n",
            "Requirement already satisfied: certifi>=2017.4.17 in /usr/local/lib/python3.11/dist-packages (from requests->transformers) (2025.1.31)\n"
          ]
        }
      ],
      "source": [
        "pip install torch torchvision timm transformers opencv-python pandas scikit-learn numpy tqdm"
      ]
    },
    {
      "cell_type": "markdown",
      "source": [
        "**2.Imports various Python libraries and modules**\n",
        "\n",
        "---\n",
        "\n"
      ],
      "metadata": {
        "id": "OuM2HtZxoCop"
      }
    },
    {
      "cell_type": "code",
      "source": [
        "import os\n",
        "import gc\n",
        "import cv2\n",
        "import torch\n",
        "import numpy as np\n",
        "import torch.nn as nn\n",
        "import torch.optim as optim\n",
        "\n",
        "from PIL import Image\n",
        "from tqdm import tqdm\n",
        "from torch.utils.data import Dataset, DataLoader, random_split\n",
        "from torchvision import transforms\n",
        "from sklearn.preprocessing import LabelEncoder\n",
        "from sklearn.model_selection import train_test_split\n",
        "from sklearn.metrics import accuracy_score, precision_score, recall_score, f1_score, classification_report, confusion_matrix, ConfusionMatrixDisplay\n",
        "\n",
        "from transformers import TimesformerForVideoClassification, TimesformerConfig\n",
        "\n",
        "import matplotlib.pyplot as plt\n"
      ],
      "metadata": {
        "id": "eO_lkju6hY06"
      },
      "execution_count": null,
      "outputs": []
    },
    {
      "cell_type": "markdown",
      "source": [
        "**3.Mount  Google Drive to the Colab environment**"
      ],
      "metadata": {
        "id": "-vB3vgZcordm"
      }
    },
    {
      "cell_type": "code",
      "source": [
        "from google.colab import drive\n",
        "drive.mount('/content/drive')"
      ],
      "metadata": {
        "colab": {
          "base_uri": "https://localhost:8080/"
        },
        "id": "EWyMdu3ih4Eo",
        "outputId": "88960672-7cf5-4c6c-afbb-c1e2927c36f3"
      },
      "execution_count": null,
      "outputs": [
        {
          "output_type": "stream",
          "name": "stdout",
          "text": [
            "Drive already mounted at /content/drive; to attempt to forcibly remount, call drive.mount(\"/content/drive\", force_remount=True).\n"
          ]
        }
      ]
    },
    {
      "cell_type": "markdown",
      "source": [
        "**4.Loading and Organizing Video Dataset for Action Classification**"
      ],
      "metadata": {
        "id": "jgn0ryEvo_uo"
      }
    },
    {
      "cell_type": "code",
      "source": [
        "def load_dataset(dataset_path):\n",
        "    video_paths = []\n",
        "    labels = []\n",
        "    class_to_idx = {}\n",
        "\n",
        "    # Assign an index to each action class\n",
        "    for idx, action in enumerate(sorted(os.listdir(dataset_path))):\n",
        "        class_to_idx[action] = idx\n",
        "        action_path = os.path.join(dataset_path, action)\n",
        "\n",
        "        if os.path.isdir(action_path):\n",
        "            for video_file in os.listdir(action_path):\n",
        "                if video_file.endswith(('.mp4', '.avi', '.mov')):\n",
        "                    video_paths.append(os.path.join(action_path, video_file))\n",
        "                    labels.append(idx)\n",
        "\n",
        "    return video_paths, labels, class_to_idx\n",
        "\n",
        "dataset_path = \"/content/drive/MyDrive/soccer_dataset\"\n",
        "video_paths, labels, class_to_idx = load_dataset(dataset_path)\n",
        "\n",
        "print(f\"Loaded {len(video_paths)} videos from {len(class_to_idx)} classes.\")\n",
        "print(\"Class labels:\", class_to_idx)"
      ],
      "metadata": {
        "colab": {
          "base_uri": "https://localhost:8080/"
        },
        "id": "b-ebX4Smh7YY",
        "outputId": "534125fc-70a4-4022-a569-fcc8a51824ec"
      },
      "execution_count": null,
      "outputs": [
        {
          "output_type": "stream",
          "name": "stdout",
          "text": [
            "Loaded 3610 videos from 10 classes.\n",
            "Class labels: {'corner': 0, 'foul': 1, 'freekick': 2, 'goalkick': 3, 'longpass': 4, 'ontarget': 5, 'penalty': 6, 'shortpass': 7, 'substitution': 8, 'throw-in': 9}\n"
          ]
        }
      ]
    },
    {
      "cell_type": "code",
      "source": [
        "train_videos, test_videos, train_labels, test_labels = train_test_split(\n",
        "    video_paths, labels, test_size=0.2, random_state=42, stratify=labels\n",
        ")\n",
        "\n",
        "print(f\"Training videos: {len(train_videos)}, Testing videos: {len(test_videos)}\")"
      ],
      "metadata": {
        "colab": {
          "base_uri": "https://localhost:8080/"
        },
        "id": "jfKc9_jfh_kF",
        "outputId": "e428d2d8-de0d-4b72-fab3-2c95df69e723"
      },
      "execution_count": null,
      "outputs": [
        {
          "output_type": "stream",
          "name": "stdout",
          "text": [
            "Training videos: 2888, Testing videos: 722\n"
          ]
        }
      ]
    },
    {
      "cell_type": "markdown",
      "source": [
        "**5.Custom Dataset Class for Soccer Video Action Classification**"
      ],
      "metadata": {
        "id": "HOO1zCG2pX06"
      }
    },
    {
      "cell_type": "code",
      "source": [
        "class SoccerVideoDataset(Dataset):\n",
        "    def __init__(self, video_paths, labels, transform=None, num_frames=8):\n",
        "        self.video_paths = video_paths\n",
        "        self.labels = labels\n",
        "        self.transform = transform\n",
        "        self.num_frames = num_frames\n",
        "\n",
        "    def __len__(self):\n",
        "        return len(self.video_paths)\n",
        "\n",
        "    def __getitem__(self, idx):\n",
        "        video_path = self.video_paths[idx]\n",
        "        label = self.labels[idx]\n",
        "\n",
        "        assert os.path.exists(video_path), f\"❌ Missing file: {video_path}\"\n",
        "        frames = self.load_video_frames(video_path)\n",
        "\n",
        "        if self.transform:\n",
        "            frames = torch.stack([self.transform(frame) for frame in frames])  # Shape: (num_frames, 3, 224, 224)\n",
        "        else:\n",
        "            frames = torch.stack(frames)  # Just stack raw frames\n",
        "\n",
        "        return frames, torch.tensor(label, dtype=torch.long)\n",
        "\n",
        "    def load_video_frames(self, video_path):\n",
        "        cap = cv2.VideoCapture(video_path)\n",
        "        total_frames = int(cap.get(cv2.CAP_PROP_FRAME_COUNT))\n",
        "        frame_indices = np.linspace(0, max(total_frames - 1, 0), self.num_frames).astype(int)\n",
        "        frames = []\n",
        "\n",
        "        for idx in frame_indices:\n",
        "            cap.set(cv2.CAP_PROP_POS_FRAMES, idx)\n",
        "            ret, frame = cap.read()\n",
        "\n",
        "            if not ret:\n",
        "                print(f\"⚠️ Failed to read frame {idx} from {video_path}\")\n",
        "                black_frame = torch.zeros((224, 224, 3), dtype=torch.float32)\n",
        "                frames.append(black_frame)\n",
        "                continue\n",
        "\n",
        "            frame = cv2.cvtColor(frame, cv2.COLOR_BGR2RGB)\n",
        "            frame = cv2.resize(frame, (224, 224))\n",
        "            frame = torch.tensor(frame, dtype=torch.float32) / 255.0\n",
        "            frames.append(frame)\n",
        "\n",
        "        cap.release()\n",
        "\n",
        "        while len(frames) < self.num_frames:\n",
        "            black_frame = torch.zeros((224, 224, 3), dtype=torch.float32)\n",
        "            frames.append(black_frame)\n",
        "\n",
        "        return frames\n"
      ],
      "metadata": {
        "id": "UXUI1x52iCWu"
      },
      "execution_count": null,
      "outputs": []
    },
    {
      "cell_type": "markdown",
      "source": [
        "**6.Transformation Pipeline for Preprocessing Soccer Video Frames**"
      ],
      "metadata": {
        "id": "bIS_OHsXp_D3"
      }
    },
    {
      "cell_type": "code",
      "source": [
        "transform = transforms.Compose([\n",
        "    transforms.Resize((224, 224)),  # Ensures frames are of correct size\n",
        "    transforms.ToTensor(),  # Converts NumPy arrays to PyTorch tensors\n",
        "    transforms.Normalize(mean=[0.485, 0.456, 0.406], std=[0.229, 0.224, 0.225]),  # ImageNet normalization\n",
        "])"
      ],
      "metadata": {
        "id": "gDj2pHUliL1C"
      },
      "execution_count": null,
      "outputs": []
    },
    {
      "cell_type": "markdown",
      "source": [
        "**7.Soccer Action Video Classification Dataset Preparation**"
      ],
      "metadata": {
        "id": "eu7gk64dy_ZX"
      }
    },
    {
      "cell_type": "code",
      "source": [
        "\n",
        "\n",
        "# Function to extract frames\n",
        "def video_to_frames(video_path, num_frames=8):\n",
        "    cap = cv2.VideoCapture(video_path)\n",
        "    total_frames = int(cap.get(cv2.CAP_PROP_FRAME_COUNT))\n",
        "    frame_indices = np.linspace(0, total_frames-1, num_frames, dtype=int)\n",
        "    frames = []\n",
        "\n",
        "    for idx in frame_indices:\n",
        "        cap.set(cv2.CAP_PROP_POS_FRAMES, idx)\n",
        "        ret, frame = cap.read()\n",
        "        if ret:\n",
        "            frame = cv2.cvtColor(frame, cv2.COLOR_BGR2RGB)\n",
        "            frame = transform(frame)\n",
        "            frames.append(frame)\n",
        "\n",
        "    cap.release()\n",
        "\n",
        "    if len(frames) < num_frames:  # Padding if video is too short\n",
        "        frames.extend([torch.zeros(3, 224, 224)] * (num_frames - len(frames)))\n",
        "\n",
        "    return torch.stack(frames)  # Shape: (num_frames, 3, 224, 224)\n",
        "\n",
        "# Custom dataset class\n",
        "class SoccerDataset(Dataset):\n",
        "    def __init__(self, root_dir, num_frames=8):\n",
        "        self.root_dir = root_dir\n",
        "        self.num_frames = num_frames\n",
        "        self.video_paths = []\n",
        "        self.labels = []\n",
        "\n",
        "        # Load video file paths and labels\n",
        "        for action in os.listdir(root_dir):\n",
        "            action_path = os.path.join(root_dir, action)\n",
        "            if os.path.isdir(action_path):\n",
        "                for video_file in os.listdir(action_path):\n",
        "                    if video_file.endswith((\".mp4\", \".avi\", \".mov\")):\n",
        "                        self.video_paths.append(os.path.join(action_path, video_file))\n",
        "                        self.labels.append(action)\n",
        "\n",
        "        # Encode labels to numeric values\n",
        "        self.label_encoder = LabelEncoder()\n",
        "        self.encoded_labels = self.label_encoder.fit_transform(self.labels)\n",
        "\n",
        "    def __len__(self):\n",
        "        return len(self.video_paths)\n",
        "\n",
        "    def __getitem__(self, idx):\n",
        "        video_path = self.video_paths[idx]\n",
        "        label = self.encoded_labels[idx]\n",
        "        frames = video_to_frames(video_path, self.num_frames)\n",
        "\n",
        "        return frames, torch.tensor(label, dtype=torch.long)\n",
        "\n",
        "# Load dataset from single folder\n",
        "dataset_path = \"/content/drive/MyDrive/soccer_dataset\"\n",
        "dataset = SoccerDataset(dataset_path)\n",
        "\n",
        "# Split dataset into Train (70%), Val (15%), Test (15%)\n",
        "train_size = int(0.7 * len(dataset))\n",
        "val_size = int(0.15 * len(dataset))\n",
        "test_size = len(dataset) - train_size - val_size\n",
        "\n",
        "train_dataset, val_dataset, test_dataset = random_split(dataset, [train_size, val_size, test_size])\n",
        "\n",
        "# Create DataLoaders\n",
        "train_loader = DataLoader(train_dataset, batch_size=4, shuffle=True)\n",
        "val_loader = DataLoader(val_dataset, batch_size=4, shuffle=False)\n",
        "test_loader = DataLoader(test_dataset, batch_size=4, shuffle=False)\n",
        "\n",
        "print(f\"Dataset loaded: {len(train_dataset)} train, {len(val_dataset)} val, {len(test_dataset)} test.\")\n"
      ],
      "metadata": {
        "colab": {
          "base_uri": "https://localhost:8080/"
        },
        "id": "z3kdtGh9xtRe",
        "outputId": "8129b86e-b2a6-4a11-bdea-ca7220e3c3ee"
      },
      "execution_count": null,
      "outputs": [
        {
          "output_type": "stream",
          "name": "stdout",
          "text": [
            "Dataset loaded: 2527 train, 541 val, 542 test.\n"
          ]
        }
      ]
    },
    {
      "cell_type": "markdown",
      "source": [
        "**8.Loading and Modifying Pre-Trained TimeSformer Model for Custom Video Classification**"
      ],
      "metadata": {
        "id": "RlLq9_H6qi9H"
      }
    },
    {
      "cell_type": "code",
      "source": [
        "import torch\n",
        "import torch.nn as nn\n",
        "from transformers import TimesformerConfig, TimesformerForVideoClassification\n",
        "\n",
        "# Set device (GPU if available)\n",
        "device = torch.device(\"cuda\" if torch.cuda.is_available() else \"cpu\")\n",
        "\n",
        "# Define the number of classes\n",
        "num_classes = 10  # Update this for your dataset\n",
        "\n",
        "# Model name\n",
        "model_name = \"facebook/timesformer-base-finetuned-k400\"\n",
        "\n",
        "# Load configuration\n",
        "config = TimesformerConfig.from_pretrained(model_name)\n",
        "config.num_labels = num_classes\n",
        "\n",
        "# Load pre-trained model\n",
        "model = TimesformerForVideoClassification.from_pretrained(\n",
        "    model_name, config=config, ignore_mismatched_sizes=True\n",
        ")\n",
        "\n",
        "# 🔽 Replace classifier head with dropout + linear\n",
        "dropout_rate = 0.3  # You can tune this hyperparameter\n",
        "\n",
        "model.classifier = nn.Sequential(\n",
        "    nn.Dropout(p=dropout_rate),\n",
        "    nn.Linear(config.hidden_size, num_classes)\n",
        ")\n",
        "\n",
        "# Move to device\n",
        "model.to(device)\n",
        "\n",
        "# Print model summary\n",
        "print(model)\n"
      ],
      "metadata": {
        "colab": {
          "base_uri": "https://localhost:8080/"
        },
        "id": "F-HsZqVgiWKy",
        "outputId": "641771bc-1046-47ad-f13e-eef95b11a628"
      },
      "execution_count": null,
      "outputs": [
        {
          "output_type": "stream",
          "name": "stderr",
          "text": [
            "Some weights of TimesformerForVideoClassification were not initialized from the model checkpoint at facebook/timesformer-base-finetuned-k400 and are newly initialized because the shapes did not match:\n",
            "- classifier.weight: found shape torch.Size([400, 768]) in the checkpoint and torch.Size([10, 768]) in the model instantiated\n",
            "- classifier.bias: found shape torch.Size([400]) in the checkpoint and torch.Size([10]) in the model instantiated\n",
            "You should probably TRAIN this model on a down-stream task to be able to use it for predictions and inference.\n"
          ]
        },
        {
          "output_type": "stream",
          "name": "stdout",
          "text": [
            "TimesformerForVideoClassification(\n",
            "  (timesformer): TimesformerModel(\n",
            "    (embeddings): TimesformerEmbeddings(\n",
            "      (patch_embeddings): TimesformerPatchEmbeddings(\n",
            "        (projection): Conv2d(3, 768, kernel_size=(16, 16), stride=(16, 16))\n",
            "      )\n",
            "      (pos_drop): Dropout(p=0.0, inplace=False)\n",
            "      (time_drop): Dropout(p=0.0, inplace=False)\n",
            "    )\n",
            "    (encoder): TimesformerEncoder(\n",
            "      (layer): ModuleList(\n",
            "        (0-11): 12 x TimesformerLayer(\n",
            "          (drop_path): Identity()\n",
            "          (attention): TimeSformerAttention(\n",
            "            (attention): TimesformerSelfAttention(\n",
            "              (qkv): Linear(in_features=768, out_features=2304, bias=True)\n",
            "              (attn_drop): Dropout(p=0.0, inplace=False)\n",
            "            )\n",
            "            (output): TimesformerSelfOutput(\n",
            "              (dense): Linear(in_features=768, out_features=768, bias=True)\n",
            "              (dropout): Dropout(p=0.0, inplace=False)\n",
            "            )\n",
            "          )\n",
            "          (intermediate): TimesformerIntermediate(\n",
            "            (dense): Linear(in_features=768, out_features=3072, bias=True)\n",
            "            (dropout): Dropout(p=0.0, inplace=False)\n",
            "            (intermediate_act_fn): GELUActivation()\n",
            "          )\n",
            "          (output): TimesformerOutput(\n",
            "            (dense): Linear(in_features=3072, out_features=768, bias=True)\n",
            "            (dropout): Dropout(p=0.0, inplace=False)\n",
            "          )\n",
            "          (layernorm_before): LayerNorm((768,), eps=1e-06, elementwise_affine=True)\n",
            "          (layernorm_after): LayerNorm((768,), eps=1e-06, elementwise_affine=True)\n",
            "          (temporal_layernorm): LayerNorm((768,), eps=1e-06, elementwise_affine=True)\n",
            "          (temporal_attention): TimeSformerAttention(\n",
            "            (attention): TimesformerSelfAttention(\n",
            "              (qkv): Linear(in_features=768, out_features=2304, bias=True)\n",
            "              (attn_drop): Dropout(p=0.0, inplace=False)\n",
            "            )\n",
            "            (output): TimesformerSelfOutput(\n",
            "              (dense): Linear(in_features=768, out_features=768, bias=True)\n",
            "              (dropout): Dropout(p=0.0, inplace=False)\n",
            "            )\n",
            "          )\n",
            "          (temporal_dense): Linear(in_features=768, out_features=768, bias=True)\n",
            "        )\n",
            "      )\n",
            "    )\n",
            "    (layernorm): LayerNorm((768,), eps=1e-06, elementwise_affine=True)\n",
            "  )\n",
            "  (classifier): Sequential(\n",
            "    (0): Dropout(p=0.3, inplace=False)\n",
            "    (1): Linear(in_features=768, out_features=10, bias=True)\n",
            "  )\n",
            ")\n"
          ]
        }
      ]
    },
    {
      "cell_type": "markdown",
      "source": [
        "**9.Convert Video to Preprocessed Frame Tensor for Model Input**"
      ],
      "metadata": {
        "id": "x7jmsnz1rKWW"
      }
    },
    {
      "cell_type": "code",
      "source": [
        "def video_to_frames(video_path, num_frames=8):\n",
        "    cap = cv2.VideoCapture(video_path)\n",
        "    frames = []\n",
        "\n",
        "    transform = transforms.Compose([\n",
        "        transforms.Resize((224, 224)),  # Ensure correct size\n",
        "        transforms.ToTensor(),          # Convert to tensor\n",
        "        transforms.Normalize(mean=[0.485, 0.456, 0.406], std=[0.229, 0.224, 0.225])  # Normalize\n",
        "    ])\n",
        "\n",
        "    for _ in range(num_frames):\n",
        "        ret, frame = cap.read()\n",
        "        if ret:\n",
        "            frame = cv2.cvtColor(frame, cv2.COLOR_BGR2RGB)  # Convert BGR to RGB\n",
        "            frame = Image.fromarray(frame)  # Convert NumPy array to PIL Image\n",
        "            frame = transform(frame)  # Apply transforms\n",
        "            frames.append(frame)\n",
        "\n",
        "    cap.release()\n",
        "\n",
        "    if len(frames) < num_frames:\n",
        "        # Pad with black frames if video is too short\n",
        "        empty_frame = torch.zeros((3, 224, 224))\n",
        "        frames.extend([empty_frame] * (num_frames - len(frames)))\n",
        "\n",
        "    return torch.stack(frames)  # Stack frames into tensor"
      ],
      "metadata": {
        "id": "WE7cbWB7ieWo"
      },
      "execution_count": null,
      "outputs": []
    },
    {
      "cell_type": "markdown",
      "source": [
        "**10.Training and Validation Loop for TimeSformer with Mixed Precision and Gradient Clipping**"
      ],
      "metadata": {
        "id": "n5RJvpbKrpMl"
      }
    },
    {
      "cell_type": "markdown",
      "source": [
        "**Updated Training and Validation**"
      ],
      "metadata": {
        "id": "NRZOcjVjwNyt"
      }
    },
    {
      "cell_type": "code",
      "source": [
        "import torch\n",
        "import torch.nn as nn\n",
        "import torch.optim as optim\n",
        "from torch.utils.data import DataLoader\n",
        "from sklearn.metrics import accuracy_score, precision_score, recall_score, f1_score\n",
        "from tqdm import tqdm\n",
        "import gc\n",
        "from transformers import get_linear_schedule_with_warmup\n",
        "\n",
        "# Move model to device\n",
        "model = model.to(device)\n",
        "\n",
        "# Criterion and optimizer\n",
        "criterion = nn.CrossEntropyLoss()\n",
        "optimizer = optim.AdamW(model.parameters(), lr=2e-5, weight_decay=0.01)\n",
        "\n",
        "# Enable AMP if supported\n",
        "use_amp = torch.cuda.is_available()\n",
        "scaler = torch.cuda.amp.GradScaler() if use_amp else None\n",
        "\n",
        "# Scheduler\n",
        "num_epochs = 10\n",
        "total_steps = len(train_loader) * num_epochs\n",
        "scheduler = get_linear_schedule_with_warmup(\n",
        "    optimizer,\n",
        "    num_warmup_steps=int(0.1 * total_steps),\n",
        "    num_training_steps=total_steps\n",
        ")\n",
        "\n",
        "# Metrics storage\n",
        "train_losses, val_losses = [], []\n",
        "train_accuracies, val_accuracies = [], []\n",
        "val_precisions, val_recalls, val_f1s = [], [], []\n",
        "best_val_f1 = 0\n",
        "\n",
        "for epoch in range(num_epochs):\n",
        "    print(f\"\\n🔁 Starting Epoch [{epoch+1}/{num_epochs}]\")\n",
        "\n",
        "    # Training phase\n",
        "    model.train()\n",
        "    train_loss = 0\n",
        "    correct = 0\n",
        "    total = 0\n",
        "    train_loop = tqdm(train_loader, desc=f\"Epoch [{epoch+1}/{num_epochs}] - Training\")\n",
        "\n",
        "    for i, (videos, labels) in enumerate(train_loop):\n",
        "        videos, labels = videos.to(device), labels.to(device)\n",
        "        optimizer.zero_grad()\n",
        "\n",
        "        if i == 0:\n",
        "            print(f\"📊 Input stats: mean={videos.mean().item():.4f}, std={videos.std().item():.4f}\")\n",
        "\n",
        "        with torch.cuda.amp.autocast(enabled=use_amp):\n",
        "            outputs = model(videos).logits\n",
        "            loss = criterion(outputs, labels)\n",
        "\n",
        "            if torch.isnan(loss):\n",
        "                print(\"🚨 NaN in training loss!\")\n",
        "\n",
        "        if use_amp:\n",
        "            scaler.scale(loss).backward()\n",
        "            torch.nn.utils.clip_grad_norm_(model.parameters(), 1.0)\n",
        "            scaler.step(optimizer)\n",
        "            scaler.update()\n",
        "        else:\n",
        "            loss.backward()\n",
        "            torch.nn.utils.clip_grad_norm_(model.parameters(), 1.0)\n",
        "            optimizer.step()\n",
        "\n",
        "        scheduler.step()\n",
        "\n",
        "        train_loss += loss.item()\n",
        "        _, predicted = torch.max(outputs, 1)\n",
        "        total += labels.size(0)\n",
        "        correct += (predicted == labels).sum().item()\n",
        "\n",
        "        train_loop.set_postfix(loss=train_loss / (i + 1), acc=100. * correct / total)\n",
        "\n",
        "    avg_train_loss = train_loss / len(train_loader)\n",
        "    train_accuracy = 100. * correct / total\n",
        "    train_losses.append(avg_train_loss)\n",
        "    train_accuracies.append(train_accuracy)\n",
        "    print(f\"✅ Epoch [{epoch+1}], Train Loss: {avg_train_loss:.4f}, Acc: {train_accuracy:.2f}%\")\n",
        "\n",
        "    # Validation phase\n",
        "    model.eval()\n",
        "    val_loss = 0\n",
        "    y_true, y_pred = [], []\n",
        "\n",
        "    with torch.no_grad():\n",
        "        for videos, labels in val_loader:\n",
        "            videos, labels = videos.to(device), labels.to(device)\n",
        "\n",
        "            with torch.cuda.amp.autocast(enabled=use_amp):\n",
        "                outputs = model(videos).logits\n",
        "                loss = criterion(outputs, labels)\n",
        "\n",
        "                if torch.isnan(loss):\n",
        "                    print(\"🚨 NaN in validation loss!\")\n",
        "\n",
        "            val_loss += loss.item()\n",
        "            _, predicted = torch.max(outputs, 1)\n",
        "            y_true.extend(labels.cpu().numpy())\n",
        "            y_pred.extend(predicted.cpu().numpy())\n",
        "\n",
        "    # Metrics\n",
        "    avg_val_loss = val_loss / len(val_loader)\n",
        "    val_accuracy = accuracy_score(y_true, y_pred) * 100\n",
        "    val_precision = precision_score(y_true, y_pred, average='macro', zero_division=0) * 100\n",
        "    val_recall = recall_score(y_true, y_pred, average='macro', zero_division=0) * 100\n",
        "    val_f1 = f1_score(y_true, y_pred, average='macro', zero_division=0) * 100\n",
        "\n",
        "    val_losses.append(avg_val_loss)\n",
        "    val_accuracies.append(val_accuracy)\n",
        "    val_precisions.append(val_precision)\n",
        "    val_recalls.append(val_recall)\n",
        "    val_f1s.append(val_f1)\n",
        "\n",
        "    print(f\"📈 Epoch [{epoch+1}], Val Loss: {avg_val_loss:.4f}, Acc: {val_accuracy:.2f}%, Precision: {val_precision:.2f}%, Recall: {val_recall:.2f}%, F1: {val_f1:.2f}%\")\n",
        "\n",
        "    # Save best model\n",
        "    if val_f1 > best_val_f1:\n",
        "        best_val_f1 = val_f1\n",
        "        torch.save(model.state_dict(), f\"best_model.pth\")\n",
        "        print(f\"💾 Best model saved (F1={val_f1:.2f}%)\")\n",
        "\n",
        "    # Save current epoch model\n",
        "    torch.save(model.state_dict(), f\"model_epoch_{epoch+1}.pth\")\n",
        "    print(f\"💾 Epoch model saved: model_epoch_{epoch+1}.pth\")\n",
        "\n",
        "    # Clean-up\n",
        "    torch.cuda.empty_cache()\n",
        "    gc.collect()\n"
      ],
      "metadata": {
        "colab": {
          "base_uri": "https://localhost:8080/"
        },
        "id": "3XMj5iAJSXtq",
        "outputId": "52d22fb1-6497-40b3-f653-0c708dc634ad"
      },
      "execution_count": null,
      "outputs": [
        {
          "metadata": {
            "tags": null
          },
          "name": "stderr",
          "output_type": "stream",
          "text": [
            "<ipython-input-21-b60c12357bf5>:19: FutureWarning: `torch.cuda.amp.GradScaler(args...)` is deprecated. Please use `torch.amp.GradScaler('cuda', args...)` instead.\n",
            "  scaler = torch.cuda.amp.GradScaler() if use_amp else None\n"
          ]
        },
        {
          "metadata": {
            "tags": null
          },
          "name": "stdout",
          "output_type": "stream",
          "text": [
            "\n",
            "🔁 Starting Epoch [1/10]\n"
          ]
        },
        {
          "metadata": {
            "tags": null
          },
          "name": "stderr",
          "output_type": "stream",
          "text": [
            "Epoch [1/10] - Training:   0%|          | 0/632 [00:00<?, ?it/s]<ipython-input-21-b60c12357bf5>:53: FutureWarning: `torch.cuda.amp.autocast(args...)` is deprecated. Please use `torch.amp.autocast('cuda', args...)` instead.\n",
            "  with torch.cuda.amp.autocast(enabled=use_amp):\n",
            "Epoch [1/10] - Training:   0%|          | 1/632 [00:01<16:25,  1.56s/it, acc=0, loss=2.77]"
          ]
        },
        {
          "metadata": {
            "tags": null
          },
          "name": "stdout",
          "output_type": "stream",
          "text": [
            "📊 Input stats: mean=-0.2145, std=0.6676\n"
          ]
        },
        {
          "output_type": "stream",
          "name": "stderr",
          "text": [
            "Epoch [1/10] - Training: 100%|██████████| 632/632 [09:09<00:00,  1.15it/s, acc=41.6, loss=1.68]\n"
          ]
        },
        {
          "output_type": "stream",
          "name": "stdout",
          "text": [
            "✅ Epoch [1], Train Loss: 1.6839, Acc: 41.63%\n"
          ]
        },
        {
          "output_type": "stream",
          "name": "stderr",
          "text": [
            "<ipython-input-21-b60c12357bf5>:94: FutureWarning: `torch.cuda.amp.autocast(args...)` is deprecated. Please use `torch.amp.autocast('cuda', args...)` instead.\n",
            "  with torch.cuda.amp.autocast(enabled=use_amp):\n"
          ]
        },
        {
          "output_type": "stream",
          "name": "stdout",
          "text": [
            "📈 Epoch [1], Val Loss: 0.9709, Acc: 67.65%, Precision: 69.17%, Recall: 67.91%, F1: 66.56%\n",
            "💾 Best model saved (F1=66.56%)\n",
            "💾 Epoch model saved: model_epoch_1.pth\n",
            "\n",
            "🔁 Starting Epoch [2/10]\n"
          ]
        },
        {
          "output_type": "stream",
          "name": "stderr",
          "text": [
            "Epoch [2/10] - Training:   0%|          | 0/632 [00:00<?, ?it/s]<ipython-input-21-b60c12357bf5>:53: FutureWarning: `torch.cuda.amp.autocast(args...)` is deprecated. Please use `torch.amp.autocast('cuda', args...)` instead.\n",
            "  with torch.cuda.amp.autocast(enabled=use_amp):\n",
            "Epoch [2/10] - Training:   0%|          | 1/632 [00:00<04:36,  2.28it/s, acc=100, loss=0.602]"
          ]
        },
        {
          "output_type": "stream",
          "name": "stdout",
          "text": [
            "📊 Input stats: mean=-0.0427, std=0.8209\n"
          ]
        },
        {
          "output_type": "stream",
          "name": "stderr",
          "text": [
            "Epoch [2/10] - Training: 100%|██████████| 632/632 [04:48<00:00,  2.19it/s, acc=78.6, loss=0.611]\n"
          ]
        },
        {
          "output_type": "stream",
          "name": "stdout",
          "text": [
            "✅ Epoch [2], Train Loss: 0.6113, Acc: 78.59%\n"
          ]
        },
        {
          "output_type": "stream",
          "name": "stderr",
          "text": [
            "<ipython-input-21-b60c12357bf5>:94: FutureWarning: `torch.cuda.amp.autocast(args...)` is deprecated. Please use `torch.amp.autocast('cuda', args...)` instead.\n",
            "  with torch.cuda.amp.autocast(enabled=use_amp):\n"
          ]
        },
        {
          "output_type": "stream",
          "name": "stdout",
          "text": [
            "📈 Epoch [2], Val Loss: 0.5627, Acc: 82.44%, Precision: 84.54%, Recall: 82.35%, F1: 82.36%\n",
            "💾 Best model saved (F1=82.36%)\n",
            "💾 Epoch model saved: model_epoch_2.pth\n",
            "\n",
            "🔁 Starting Epoch [3/10]\n"
          ]
        },
        {
          "output_type": "stream",
          "name": "stderr",
          "text": [
            "Epoch [3/10] - Training:   0%|          | 0/632 [00:00<?, ?it/s]<ipython-input-21-b60c12357bf5>:53: FutureWarning: `torch.cuda.amp.autocast(args...)` is deprecated. Please use `torch.amp.autocast('cuda', args...)` instead.\n",
            "  with torch.cuda.amp.autocast(enabled=use_amp):\n",
            "Epoch [3/10] - Training:   0%|          | 1/632 [00:00<04:33,  2.31it/s, acc=100, loss=0.0226]"
          ]
        },
        {
          "output_type": "stream",
          "name": "stdout",
          "text": [
            "📊 Input stats: mean=-0.3562, std=0.9211\n"
          ]
        },
        {
          "output_type": "stream",
          "name": "stderr",
          "text": [
            "Epoch [3/10] - Training: 100%|██████████| 632/632 [04:52<00:00,  2.16it/s, acc=92.6, loss=0.245]\n"
          ]
        },
        {
          "output_type": "stream",
          "name": "stdout",
          "text": [
            "✅ Epoch [3], Train Loss: 0.2447, Acc: 92.64%\n"
          ]
        },
        {
          "output_type": "stream",
          "name": "stderr",
          "text": [
            "<ipython-input-21-b60c12357bf5>:94: FutureWarning: `torch.cuda.amp.autocast(args...)` is deprecated. Please use `torch.amp.autocast('cuda', args...)` instead.\n",
            "  with torch.cuda.amp.autocast(enabled=use_amp):\n"
          ]
        },
        {
          "output_type": "stream",
          "name": "stdout",
          "text": [
            "📈 Epoch [3], Val Loss: 0.4792, Acc: 87.06%, Precision: 86.68%, Recall: 86.76%, F1: 86.61%\n",
            "💾 Best model saved (F1=86.61%)\n",
            "💾 Epoch model saved: model_epoch_3.pth\n",
            "\n",
            "🔁 Starting Epoch [4/10]\n"
          ]
        },
        {
          "output_type": "stream",
          "name": "stderr",
          "text": [
            "Epoch [4/10] - Training:   0%|          | 0/632 [00:00<?, ?it/s]<ipython-input-21-b60c12357bf5>:53: FutureWarning: `torch.cuda.amp.autocast(args...)` is deprecated. Please use `torch.amp.autocast('cuda', args...)` instead.\n",
            "  with torch.cuda.amp.autocast(enabled=use_amp):\n",
            "Epoch [4/10] - Training:   0%|          | 1/632 [00:00<04:41,  2.24it/s, acc=100, loss=0.000196]"
          ]
        },
        {
          "output_type": "stream",
          "name": "stdout",
          "text": [
            "📊 Input stats: mean=-0.2504, std=0.8601\n"
          ]
        },
        {
          "output_type": "stream",
          "name": "stderr",
          "text": [
            "Epoch [4/10] - Training: 100%|██████████| 632/632 [04:48<00:00,  2.19it/s, acc=96, loss=0.179]\n"
          ]
        },
        {
          "output_type": "stream",
          "name": "stdout",
          "text": [
            "✅ Epoch [4], Train Loss: 0.1793, Acc: 95.96%\n"
          ]
        },
        {
          "output_type": "stream",
          "name": "stderr",
          "text": [
            "<ipython-input-21-b60c12357bf5>:94: FutureWarning: `torch.cuda.amp.autocast(args...)` is deprecated. Please use `torch.amp.autocast('cuda', args...)` instead.\n",
            "  with torch.cuda.amp.autocast(enabled=use_amp):\n"
          ]
        },
        {
          "output_type": "stream",
          "name": "stdout",
          "text": [
            "📈 Epoch [4], Val Loss: 0.6964, Acc: 89.65%, Precision: 89.96%, Recall: 89.17%, F1: 89.30%\n",
            "💾 Best model saved (F1=89.30%)\n",
            "💾 Epoch model saved: model_epoch_4.pth\n",
            "\n",
            "🔁 Starting Epoch [5/10]\n"
          ]
        },
        {
          "output_type": "stream",
          "name": "stderr",
          "text": [
            "Epoch [5/10] - Training:   0%|          | 0/632 [00:00<?, ?it/s]<ipython-input-21-b60c12357bf5>:53: FutureWarning: `torch.cuda.amp.autocast(args...)` is deprecated. Please use `torch.amp.autocast('cuda', args...)` instead.\n",
            "  with torch.cuda.amp.autocast(enabled=use_amp):\n",
            "Epoch [5/10] - Training:   0%|          | 1/632 [00:00<08:09,  1.29it/s, acc=100, loss=3.34e-6]"
          ]
        },
        {
          "output_type": "stream",
          "name": "stdout",
          "text": [
            "📊 Input stats: mean=-0.2087, std=0.7399\n"
          ]
        },
        {
          "output_type": "stream",
          "name": "stderr",
          "text": [
            "Epoch [5/10] - Training: 100%|██████████| 632/632 [04:42<00:00,  2.24it/s, acc=99, loss=0.0745]\n"
          ]
        },
        {
          "output_type": "stream",
          "name": "stdout",
          "text": [
            "✅ Epoch [5], Train Loss: 0.0745, Acc: 98.97%\n"
          ]
        },
        {
          "output_type": "stream",
          "name": "stderr",
          "text": [
            "<ipython-input-21-b60c12357bf5>:94: FutureWarning: `torch.cuda.amp.autocast(args...)` is deprecated. Please use `torch.amp.autocast('cuda', args...)` instead.\n",
            "  with torch.cuda.amp.autocast(enabled=use_amp):\n"
          ]
        },
        {
          "output_type": "stream",
          "name": "stdout",
          "text": [
            "📈 Epoch [5], Val Loss: 0.7304, Acc: 90.94%, Precision: 91.13%, Recall: 90.65%, F1: 90.62%\n",
            "💾 Best model saved (F1=90.62%)\n",
            "💾 Epoch model saved: model_epoch_5.pth\n",
            "\n",
            "🔁 Starting Epoch [6/10]\n"
          ]
        },
        {
          "output_type": "stream",
          "name": "stderr",
          "text": [
            "Epoch [6/10] - Training:   0%|          | 0/632 [00:00<?, ?it/s]<ipython-input-21-b60c12357bf5>:53: FutureWarning: `torch.cuda.amp.autocast(args...)` is deprecated. Please use `torch.amp.autocast('cuda', args...)` instead.\n",
            "  with torch.cuda.amp.autocast(enabled=use_amp):\n",
            "Epoch [6/10] - Training:   0%|          | 1/632 [00:00<04:38,  2.27it/s, acc=100, loss=1.64e-6]"
          ]
        },
        {
          "output_type": "stream",
          "name": "stdout",
          "text": [
            "📊 Input stats: mean=-0.2628, std=0.7023\n"
          ]
        },
        {
          "output_type": "stream",
          "name": "stderr",
          "text": [
            "Epoch [6/10] - Training: 100%|██████████| 632/632 [04:46<00:00,  2.20it/s, acc=99.1, loss=0.067]\n"
          ]
        },
        {
          "output_type": "stream",
          "name": "stdout",
          "text": [
            "✅ Epoch [6], Train Loss: 0.0670, Acc: 99.13%\n"
          ]
        },
        {
          "output_type": "stream",
          "name": "stderr",
          "text": [
            "<ipython-input-21-b60c12357bf5>:94: FutureWarning: `torch.cuda.amp.autocast(args...)` is deprecated. Please use `torch.amp.autocast('cuda', args...)` instead.\n",
            "  with torch.cuda.amp.autocast(enabled=use_amp):\n"
          ]
        },
        {
          "output_type": "stream",
          "name": "stdout",
          "text": [
            "📈 Epoch [6], Val Loss: 1.0126, Acc: 89.09%, Precision: 89.11%, Recall: 89.02%, F1: 88.69%\n",
            "💾 Epoch model saved: model_epoch_6.pth\n",
            "\n",
            "🔁 Starting Epoch [7/10]\n"
          ]
        },
        {
          "output_type": "stream",
          "name": "stderr",
          "text": [
            "Epoch [7/10] - Training:   0%|          | 0/632 [00:00<?, ?it/s]<ipython-input-21-b60c12357bf5>:53: FutureWarning: `torch.cuda.amp.autocast(args...)` is deprecated. Please use `torch.amp.autocast('cuda', args...)` instead.\n",
            "  with torch.cuda.amp.autocast(enabled=use_amp):\n",
            "Epoch [7/10] - Training:   0%|          | 1/632 [00:00<04:48,  2.19it/s, acc=100, loss=1.07e-6]"
          ]
        },
        {
          "output_type": "stream",
          "name": "stdout",
          "text": [
            "📊 Input stats: mean=-0.2981, std=0.6881\n"
          ]
        },
        {
          "output_type": "stream",
          "name": "stderr",
          "text": [
            "Epoch [7/10] - Training: 100%|██████████| 632/632 [04:45<00:00,  2.22it/s, acc=99.8, loss=0.0139]\n"
          ]
        },
        {
          "output_type": "stream",
          "name": "stdout",
          "text": [
            "✅ Epoch [7], Train Loss: 0.0139, Acc: 99.76%\n"
          ]
        },
        {
          "output_type": "stream",
          "name": "stderr",
          "text": [
            "<ipython-input-21-b60c12357bf5>:94: FutureWarning: `torch.cuda.amp.autocast(args...)` is deprecated. Please use `torch.amp.autocast('cuda', args...)` instead.\n",
            "  with torch.cuda.amp.autocast(enabled=use_amp):\n"
          ]
        },
        {
          "output_type": "stream",
          "name": "stdout",
          "text": [
            "📈 Epoch [7], Val Loss: 0.8029, Acc: 90.20%, Precision: 90.27%, Recall: 90.09%, F1: 89.92%\n",
            "💾 Epoch model saved: model_epoch_7.pth\n",
            "\n",
            "🔁 Starting Epoch [8/10]\n"
          ]
        },
        {
          "output_type": "stream",
          "name": "stderr",
          "text": [
            "Epoch [8/10] - Training:   0%|          | 0/632 [00:00<?, ?it/s]<ipython-input-21-b60c12357bf5>:53: FutureWarning: `torch.cuda.amp.autocast(args...)` is deprecated. Please use `torch.amp.autocast('cuda', args...)` instead.\n",
            "  with torch.cuda.amp.autocast(enabled=use_amp):\n",
            "Epoch [8/10] - Training:   0%|          | 1/632 [00:00<04:41,  2.24it/s, acc=100, loss=4.17e-7]"
          ]
        },
        {
          "output_type": "stream",
          "name": "stdout",
          "text": [
            "📊 Input stats: mean=-0.4673, std=0.8303\n"
          ]
        },
        {
          "output_type": "stream",
          "name": "stderr",
          "text": [
            "Epoch [8/10] - Training: 100%|██████████| 632/632 [04:43<00:00,  2.23it/s, acc=99.8, loss=0.00422]\n"
          ]
        },
        {
          "output_type": "stream",
          "name": "stdout",
          "text": [
            "✅ Epoch [8], Train Loss: 0.0042, Acc: 99.80%\n"
          ]
        },
        {
          "output_type": "stream",
          "name": "stderr",
          "text": [
            "<ipython-input-21-b60c12357bf5>:94: FutureWarning: `torch.cuda.amp.autocast(args...)` is deprecated. Please use `torch.amp.autocast('cuda', args...)` instead.\n",
            "  with torch.cuda.amp.autocast(enabled=use_amp):\n"
          ]
        },
        {
          "output_type": "stream",
          "name": "stdout",
          "text": [
            "📈 Epoch [8], Val Loss: 0.9252, Acc: 89.83%, Precision: 90.36%, Recall: 89.46%, F1: 89.58%\n",
            "💾 Epoch model saved: model_epoch_8.pth\n",
            "\n",
            "🔁 Starting Epoch [9/10]\n"
          ]
        },
        {
          "output_type": "stream",
          "name": "stderr",
          "text": [
            "Epoch [9/10] - Training:   0%|          | 0/632 [00:00<?, ?it/s]<ipython-input-21-b60c12357bf5>:53: FutureWarning: `torch.cuda.amp.autocast(args...)` is deprecated. Please use `torch.amp.autocast('cuda', args...)` instead.\n",
            "  with torch.cuda.amp.autocast(enabled=use_amp):\n",
            "Epoch [9/10] - Training:   0%|          | 1/632 [00:00<04:40,  2.25it/s, acc=100, loss=5.36e-7]"
          ]
        },
        {
          "output_type": "stream",
          "name": "stdout",
          "text": [
            "📊 Input stats: mean=-0.3731, std=0.6879\n"
          ]
        },
        {
          "output_type": "stream",
          "name": "stderr",
          "text": [
            "Epoch [9/10] - Training: 100%|██████████| 632/632 [04:45<00:00,  2.22it/s, acc=100, loss=0.000178]\n"
          ]
        },
        {
          "output_type": "stream",
          "name": "stdout",
          "text": [
            "✅ Epoch [9], Train Loss: 0.0002, Acc: 100.00%\n"
          ]
        },
        {
          "output_type": "stream",
          "name": "stderr",
          "text": [
            "<ipython-input-21-b60c12357bf5>:94: FutureWarning: `torch.cuda.amp.autocast(args...)` is deprecated. Please use `torch.amp.autocast('cuda', args...)` instead.\n",
            "  with torch.cuda.amp.autocast(enabled=use_amp):\n"
          ]
        },
        {
          "output_type": "stream",
          "name": "stdout",
          "text": [
            "📈 Epoch [9], Val Loss: 0.7251, Acc: 90.94%, Precision: 90.98%, Recall: 90.65%, F1: 90.59%\n",
            "💾 Epoch model saved: model_epoch_9.pth\n",
            "\n",
            "🔁 Starting Epoch [10/10]\n"
          ]
        },
        {
          "output_type": "stream",
          "name": "stderr",
          "text": [
            "Epoch [10/10] - Training:   0%|          | 0/632 [00:00<?, ?it/s]<ipython-input-21-b60c12357bf5>:53: FutureWarning: `torch.cuda.amp.autocast(args...)` is deprecated. Please use `torch.amp.autocast('cuda', args...)` instead.\n",
            "  with torch.cuda.amp.autocast(enabled=use_amp):\n",
            "Epoch [10/10] - Training:   0%|          | 1/632 [00:00<04:35,  2.29it/s, acc=100, loss=2.68e-7]"
          ]
        },
        {
          "output_type": "stream",
          "name": "stdout",
          "text": [
            "📊 Input stats: mean=-0.2825, std=0.7382\n"
          ]
        },
        {
          "output_type": "stream",
          "name": "stderr",
          "text": [
            "Epoch [10/10] - Training: 100%|██████████| 632/632 [04:46<00:00,  2.21it/s, acc=100, loss=4.69e-7]\n"
          ]
        },
        {
          "output_type": "stream",
          "name": "stdout",
          "text": [
            "✅ Epoch [10], Train Loss: 0.0000, Acc: 100.00%\n"
          ]
        },
        {
          "output_type": "stream",
          "name": "stderr",
          "text": [
            "<ipython-input-21-b60c12357bf5>:94: FutureWarning: `torch.cuda.amp.autocast(args...)` is deprecated. Please use `torch.amp.autocast('cuda', args...)` instead.\n",
            "  with torch.cuda.amp.autocast(enabled=use_amp):\n"
          ]
        },
        {
          "output_type": "stream",
          "name": "stdout",
          "text": [
            "📈 Epoch [10], Val Loss: 0.7086, Acc: 91.13%, Precision: 91.22%, Recall: 90.85%, F1: 90.81%\n",
            "💾 Best model saved (F1=90.81%)\n",
            "💾 Epoch model saved: model_epoch_10.pth\n"
          ]
        }
      ]
    },
    {
      "cell_type": "markdown",
      "source": [
        "**11.Model Evaluation**"
      ],
      "metadata": {
        "id": "X8TuFqqi-ogD"
      }
    },
    {
      "cell_type": "code",
      "source": [
        "# Define your class labels\n",
        "class_labels = ['corner', 'foul', 'freekick', 'goalkick', 'longpass', 'ontarget', 'penalty', 'shortpass', 'substitution', 'throw-in']\n",
        "\n",
        "def evaluate_model(model, val_loader, device):\n",
        "    model.eval()\n",
        "    y_true = []\n",
        "    y_pred = []\n",
        "\n",
        "    with torch.no_grad():\n",
        "        for videos, labels in val_loader:\n",
        "            videos, labels = videos.to(device), labels.to(device)\n",
        "            outputs = model(videos).logits\n",
        "            _, predicted = torch.max(outputs, 1)\n",
        "\n",
        "            y_true.extend(labels.cpu().numpy())\n",
        "            y_pred.extend(predicted.cpu().numpy())\n",
        "\n",
        "    # Calculate all metrics\n",
        "    acc = accuracy_score(y_true, y_pred) * 100\n",
        "    precision = precision_score(y_true, y_pred, average='macro') * 100\n",
        "    recall = recall_score(y_true, y_pred, average='macro') * 100\n",
        "    f1 = f1_score(y_true, y_pred, average='macro') * 100\n",
        "\n",
        "    # Print overall results\n",
        "    print(\"\\n📊 Evaluation Summary:\")\n",
        "    print(f\"Accuracy     : {acc:.2f}%\")\n",
        "    print(f\"Precision    : {precision:.2f}%\")\n",
        "    print(f\"Recall       : {recall:.2f}%\")\n",
        "    print(f\"F1 Score     : {f1:.2f}%\")\n",
        "\n",
        "    # Classification Report (per class metrics)\n",
        "    print(\"\\n📝 Classification Report:\")\n",
        "    print(classification_report(y_true, y_pred, target_names=class_labels, digits=4))\n",
        "\n",
        "    # Confusion Matrix\n",
        "    cm = confusion_matrix(y_true, y_pred)\n",
        "    fig, ax = plt.subplots(figsize=(10, 8))\n",
        "    disp = ConfusionMatrixDisplay(confusion_matrix=cm, display_labels=class_labels)\n",
        "    disp.plot(cmap=plt.cm.Blues, ax=ax, xticks_rotation=45)\n",
        "    plt.title(\"Confusion Matrix\")\n",
        "    plt.show()\n",
        "\n",
        "# ------------------- FINAL: Plotting Metrics ------------------- #\n",
        "\n",
        "plt.figure(figsize=(15, 10))\n",
        "\n",
        "# Loss plot\n",
        "plt.subplot(2, 2, 1)\n",
        "plt.plot(train_losses, label='Train Loss')\n",
        "plt.plot(val_losses, label='Validation Loss')\n",
        "plt.title('Loss Over Epochs')\n",
        "plt.xlabel('Epoch')\n",
        "plt.ylabel('Loss')\n",
        "plt.legend()\n",
        "\n",
        "# Accuracy plot\n",
        "plt.subplot(2, 2, 2)\n",
        "plt.plot(train_accuracies, label='Train Accuracy')\n",
        "plt.plot(val_accuracies, label='Validation Accuracy')\n",
        "plt.title('Accuracy Over Epochs')\n",
        "plt.xlabel('Epoch')\n",
        "plt.ylabel('Accuracy (%)')\n",
        "plt.legend()\n",
        "\n",
        "# Precision/Recall plot\n",
        "plt.subplot(2, 2, 3)\n",
        "plt.plot(val_precisions, label='Validation Precision')\n",
        "plt.plot(val_recalls, label='Validation Recall')\n",
        "plt.title('Precision & Recall Over Epochs')\n",
        "plt.xlabel('Epoch')\n",
        "plt.ylabel('Score (%)')\n",
        "plt.legend()\n",
        "\n",
        "# F1 Score plot\n",
        "plt.subplot(2, 2, 4)\n",
        "plt.plot(val_f1s, label='Validation F1 Score')\n",
        "plt.title('F1 Score Over Epochs')\n",
        "plt.xlabel('Epoch')\n",
        "plt.ylabel('F1 Score (%)')\n",
        "plt.legend()\n",
        "\n",
        "plt.tight_layout()\n",
        "plt.show()\n",
        "\n",
        "# ---- Call evaluation AFTER the plots ---- #\n",
        "evaluate_model(model, val_loader, device)\n"
      ],
      "metadata": {
        "colab": {
          "base_uri": "https://localhost:8080/",
          "height": 1000
        },
        "id": "3jmKR5OZTqyW",
        "outputId": "b1ee95a3-bbca-437b-8148-11b4b51e6c85"
      },
      "execution_count": null,
      "outputs": [
        {
          "output_type": "display_data",
          "data": {
            "text/plain": [
              "<Figure size 1500x1000 with 4 Axes>"
            ],
            "image/png": "[encoded data removed]"
          },
          "metadata": {}
        },
        {
          "output_type": "stream",
          "name": "stdout",
          "text": [
            "\n",
            "📊 Evaluation Summary:\n",
            "Accuracy     : 91.13%\n",
            "Precision    : 91.22%\n",
            "Recall       : 90.85%\n",
            "F1 Score     : 90.81%\n",
            "\n",
            "📝 Classification Report:\n",
            "              precision    recall  f1-score   support\n",
            "\n",
            "      corner     0.8689    0.9138    0.8908        58\n",
            "        foul     0.8611    0.7381    0.7949        42\n",
            "    freekick     0.9464    0.8548    0.8983        62\n",
            "    goalkick     0.9655    0.9825    0.9739        57\n",
            "    longpass     0.7627    0.9375    0.8411        48\n",
            "    ontarget     0.9531    0.9242    0.9385        66\n",
            "     penalty     0.9400    1.0000    0.9691        47\n",
            "   shortpass     0.9773    0.8600    0.9149        50\n",
            "substitution     0.9615    0.9434    0.9524        53\n",
            "    throw-in     0.8852    0.9310    0.9076        58\n",
            "\n",
            "    accuracy                         0.9113       541\n",
            "   macro avg     0.9122    0.9085    0.9081       541\n",
            "weighted avg     0.9152    0.9113    0.9112       541\n",
            "\n"
          ]
        },
        {
          "output_type": "display_data",
          "data": {
            "text/plain": [
              "<Figure size 1000x800 with 2 Axes>"
            ],
            "image/png": "[encoded data removed]"
          },
          "metadata": {}
        }
      ]
    }
  ]
}